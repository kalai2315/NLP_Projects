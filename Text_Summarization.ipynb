{
  "nbformat": 4,
  "nbformat_minor": 0,
  "metadata": {
    "colab": {
      "provenance": [],
      "authorship_tag": "ABX9TyOeryXBvoRid1xIHJM4/ZPi",
      "include_colab_link": true
    },
    "kernelspec": {
      "name": "python3",
      "display_name": "Python 3"
    },
    "language_info": {
      "name": "python"
    }
  },
  "cells": [
    {
      "cell_type": "markdown",
      "metadata": {
        "id": "view-in-github",
        "colab_type": "text"
      },
      "source": [
        "<a href=\"https://colab.research.google.com/github/kalai2315/NLP_Projects/blob/main/Text_Summarization.ipynb\" target=\"_parent\"><img src=\"https://colab.research.google.com/assets/colab-badge.svg\" alt=\"Open In Colab\"/></a>"
      ]
    },
    {
      "cell_type": "markdown",
      "source": [],
      "metadata": {
        "id": "RrP97rTUCSDj"
      }
    },
    {
      "cell_type": "markdown",
      "source": [
        "# **Text Summarization**"
      ],
      "metadata": {
        "id": "GSAG_OdLCiTB"
      }
    },
    {
      "cell_type": "markdown",
      "source": [
        "**Project Overview:**\n",
        "This Text Summarization project automates the process of condensing large bodies of text into concise summaries while retaining the most important information. Using Natural Language Processing (NLP) techniques, the project supports both extractive and abstractive summarization methods. The summarization tool is designed to assist users in quickly digesting large volumes of information, such as articles, research papers, and reports."
      ],
      "metadata": {
        "id": "o99Nl10ZCgpG"
      }
    },
    {
      "cell_type": "code",
      "execution_count": 2,
      "metadata": {
        "id": "EBhA5pj5BfM7"
      },
      "outputs": [],
      "source": [
        "Text=\"\"\"Text summarization is the process of automatically creating a shorter version\n",
        " of a given text while retaining the most important information.\n",
        "  There are two primary methods for text summarization:\n",
        "  extractive and abstractive. Extractive summarization works by selecting\n",
        "  key sentences, phrases, or sections directly from the source document and\n",
        "  concatenating them to form a summary. In contrast, abstractive summarization generates\n",
        "  new sentences that may not appear in the original text, often requiring\n",
        "  advanced natural language processing (NLP) techniques. The goal of both\n",
        "  methods is to reduce the text size while preserving its meaning, making the\n",
        "  summarization process highly valuable for quickly digesting large volumes of\n",
        "  information, such as articles, reports, or research papers.\"\"\"\n"
      ]
    },
    {
      "cell_type": "code",
      "source": [
        "len(Text)"
      ],
      "metadata": {
        "colab": {
          "base_uri": "https://localhost:8080/"
        },
        "id": "gBPCwWDrCFOR",
        "outputId": "9a296e08-5ebc-4b49-8793-c0bd273002f3"
      },
      "execution_count": 3,
      "outputs": [
        {
          "output_type": "execute_result",
          "data": {
            "text/plain": [
              "810"
            ]
          },
          "metadata": {},
          "execution_count": 3
        }
      ]
    },
    {
      "cell_type": "markdown",
      "source": [
        "# **Importing Libraries**"
      ],
      "metadata": {
        "id": "qQtZ1lnkCEM4"
      }
    },
    {
      "cell_type": "code",
      "source": [
        "import spacy\n",
        "from spacy.lang.en.stop_words import STOP_WORDS\n",
        "from string import punctuation"
      ],
      "metadata": {
        "id": "KsTQ-1nOCmZx"
      },
      "execution_count": 4,
      "outputs": []
    },
    {
      "cell_type": "code",
      "source": [
        "nlp=spacy.load('en_core_web_sm')"
      ],
      "metadata": {
        "id": "xg-B3JxDCrZo"
      },
      "execution_count": 5,
      "outputs": []
    },
    {
      "cell_type": "code",
      "source": [
        "document = nlp(Text)"
      ],
      "metadata": {
        "id": "yUk5p-WPCw4H"
      },
      "execution_count": 6,
      "outputs": []
    },
    {
      "cell_type": "code",
      "source": [
        "tokens=[token.text for token in document]\n",
        "print(tokens)"
      ],
      "metadata": {
        "colab": {
          "base_uri": "https://localhost:8080/"
        },
        "id": "Yd0NajzAC6Ot",
        "outputId": "5e0a2b1d-2099-4045-9599-2056da353d37"
      },
      "execution_count": 7,
      "outputs": [
        {
          "output_type": "stream",
          "name": "stdout",
          "text": [
            "['Text', 'summarization', 'is', 'the', 'process', 'of', 'automatically', 'creating', 'a', 'shorter', 'version', '\\n ', 'of', 'a', 'given', 'text', 'while', 'retaining', 'the', 'most', 'important', 'information', '.', '\\n  ', 'There', 'are', 'two', 'primary', 'methods', 'for', 'text', 'summarization', ':', '\\n  ', 'extractive', 'and', 'abstractive', '.', 'Extractive', 'summarization', 'works', 'by', 'selecting', '\\n  ', 'key', 'sentences', ',', 'phrases', ',', 'or', 'sections', 'directly', 'from', 'the', 'source', 'document', 'and', '\\n  ', 'concatenating', 'them', 'to', 'form', 'a', 'summary', '.', 'In', 'contrast', ',', 'abstractive', 'summarization', 'generates', '\\n  ', 'new', 'sentences', 'that', 'may', 'not', 'appear', 'in', 'the', 'original', 'text', ',', 'often', 'requiring', '\\n  ', 'advanced', 'natural', 'language', 'processing', '(', 'NLP', ')', 'techniques', '.', 'The', 'goal', 'of', 'both', '\\n  ', 'methods', 'is', 'to', 'reduce', 'the', 'text', 'size', 'while', 'preserving', 'its', 'meaning', ',', 'making', 'the', '\\n  ', 'summarization', 'process', 'highly', 'valuable', 'for', 'quickly', 'digesting', 'large', 'volumes', 'of', '\\n  ', 'information', ',', 'such', 'as', 'articles', ',', 'reports', ',', 'or', 'research', 'papers', '.']\n"
          ]
        }
      ]
    },
    {
      "cell_type": "code",
      "source": [
        "punctuation=punctuation+'\\n'\n",
        "punctuation"
      ],
      "metadata": {
        "colab": {
          "base_uri": "https://localhost:8080/",
          "height": 36
        },
        "id": "udhNPe6aC6LG",
        "outputId": "94a0f495-76ac-4720-d6e2-c782c291975a"
      },
      "execution_count": 8,
      "outputs": [
        {
          "output_type": "execute_result",
          "data": {
            "text/plain": [
              "'!\"#$%&\\'()*+,-./:;<=>?@[\\\\]^_`{|}~\\n'"
            ],
            "application/vnd.google.colaboratory.intrinsic+json": {
              "type": "string"
            }
          },
          "metadata": {},
          "execution_count": 8
        }
      ]
    },
    {
      "cell_type": "markdown",
      "source": [
        "# **Cleaning the Text**"
      ],
      "metadata": {
        "id": "oghH_l5GD5xA"
      }
    },
    {
      "cell_type": "code",
      "source": [
        "word_frequency = {}\n",
        "\n",
        "for word in document:\n",
        "  #print(word)\n",
        "  if word.text.lower() not in STOP_WORDS:\n",
        "    if word.text.lower() not in punctuation:\n",
        "      #print(word)\n",
        "      if word.text not in word_frequency.keys():\n",
        "        word_frequency[word.text]=1\n",
        "        #print(word_frequency)\n",
        "      else:\n",
        "        word_frequency[word.text]+=1\n"
      ],
      "metadata": {
        "id": "AqKH-yf2C6II"
      },
      "execution_count": 11,
      "outputs": []
    },
    {
      "cell_type": "code",
      "source": [
        "print(word_frequency)"
      ],
      "metadata": {
        "colab": {
          "base_uri": "https://localhost:8080/"
        },
        "id": "gC44GoP0F4M3",
        "outputId": "483397f5-694c-43b5-c0f4-a041123c8f78"
      },
      "execution_count": 12,
      "outputs": [
        {
          "output_type": "stream",
          "name": "stdout",
          "text": [
            "{'Text': 1, 'summarization': 5, 'process': 2, 'automatically': 1, 'creating': 1, 'shorter': 1, 'version': 1, '\\n ': 1, 'given': 1, 'text': 4, 'retaining': 1, 'important': 1, 'information': 2, '\\n  ': 9, 'primary': 1, 'methods': 2, 'extractive': 1, 'abstractive': 2, 'Extractive': 1, 'works': 1, 'selecting': 1, 'key': 1, 'sentences': 2, 'phrases': 1, 'sections': 1, 'directly': 1, 'source': 1, 'document': 1, 'concatenating': 1, 'form': 1, 'summary': 1, 'contrast': 1, 'generates': 1, 'new': 1, 'appear': 1, 'original': 1, 'requiring': 1, 'advanced': 1, 'natural': 1, 'language': 1, 'processing': 1, 'NLP': 1, 'techniques': 1, 'goal': 1, 'reduce': 1, 'size': 1, 'preserving': 1, 'meaning': 1, 'making': 1, 'highly': 1, 'valuable': 1, 'quickly': 1, 'digesting': 1, 'large': 1, 'volumes': 1, 'articles': 1, 'reports': 1, 'research': 1, 'papers': 1}\n"
          ]
        }
      ]
    },
    {
      "cell_type": "code",
      "source": [
        "max_frequency = max(word_frequency.values())"
      ],
      "metadata": {
        "id": "95F2IE6OF-md"
      },
      "execution_count": 16,
      "outputs": []
    },
    {
      "cell_type": "code",
      "source": [
        "for word in word_frequency.keys():\n",
        "  word_frequency[word]=word_frequency[word]/max_frequency"
      ],
      "metadata": {
        "id": "T6_K9SwSGDEo"
      },
      "execution_count": 17,
      "outputs": []
    },
    {
      "cell_type": "code",
      "source": [
        "print(word_frequency)"
      ],
      "metadata": {
        "colab": {
          "base_uri": "https://localhost:8080/"
        },
        "id": "fvrSsPXrGc4S",
        "outputId": "a28c3e66-75b7-402a-dc29-447333578465"
      },
      "execution_count": 18,
      "outputs": [
        {
          "output_type": "stream",
          "name": "stdout",
          "text": [
            "{'Text': 0.1111111111111111, 'summarization': 0.5555555555555556, 'process': 0.2222222222222222, 'automatically': 0.1111111111111111, 'creating': 0.1111111111111111, 'shorter': 0.1111111111111111, 'version': 0.1111111111111111, '\\n ': 0.1111111111111111, 'given': 0.1111111111111111, 'text': 0.4444444444444444, 'retaining': 0.1111111111111111, 'important': 0.1111111111111111, 'information': 0.2222222222222222, '\\n  ': 1.0, 'primary': 0.1111111111111111, 'methods': 0.2222222222222222, 'extractive': 0.1111111111111111, 'abstractive': 0.2222222222222222, 'Extractive': 0.1111111111111111, 'works': 0.1111111111111111, 'selecting': 0.1111111111111111, 'key': 0.1111111111111111, 'sentences': 0.2222222222222222, 'phrases': 0.1111111111111111, 'sections': 0.1111111111111111, 'directly': 0.1111111111111111, 'source': 0.1111111111111111, 'document': 0.1111111111111111, 'concatenating': 0.1111111111111111, 'form': 0.1111111111111111, 'summary': 0.1111111111111111, 'contrast': 0.1111111111111111, 'generates': 0.1111111111111111, 'new': 0.1111111111111111, 'appear': 0.1111111111111111, 'original': 0.1111111111111111, 'requiring': 0.1111111111111111, 'advanced': 0.1111111111111111, 'natural': 0.1111111111111111, 'language': 0.1111111111111111, 'processing': 0.1111111111111111, 'NLP': 0.1111111111111111, 'techniques': 0.1111111111111111, 'goal': 0.1111111111111111, 'reduce': 0.1111111111111111, 'size': 0.1111111111111111, 'preserving': 0.1111111111111111, 'meaning': 0.1111111111111111, 'making': 0.1111111111111111, 'highly': 0.1111111111111111, 'valuable': 0.1111111111111111, 'quickly': 0.1111111111111111, 'digesting': 0.1111111111111111, 'large': 0.1111111111111111, 'volumes': 0.1111111111111111, 'articles': 0.1111111111111111, 'reports': 0.1111111111111111, 'research': 0.1111111111111111, 'papers': 0.1111111111111111}\n"
          ]
        }
      ]
    },
    {
      "cell_type": "markdown",
      "source": [
        "# **Sentence Tokenisation**"
      ],
      "metadata": {
        "id": "nf0eygpuGkHp"
      }
    },
    {
      "cell_type": "code",
      "source": [
        "sent_tokens = [sentence for sentence in document.sents]\n",
        "print(sent_tokens)"
      ],
      "metadata": {
        "colab": {
          "base_uri": "https://localhost:8080/"
        },
        "id": "Jym2ocRIGhwC",
        "outputId": "877ba215-b732-4255-dbeb-692256ff4b5c"
      },
      "execution_count": 19,
      "outputs": [
        {
          "output_type": "stream",
          "name": "stdout",
          "text": [
            "[Text summarization is the process of automatically creating a shorter version\n",
            " of a given text while retaining the most important information.\n",
            "  , There are two primary methods for text summarization: \n",
            "  extractive and abstractive., Extractive summarization works by selecting \n",
            "  key sentences, phrases, or sections directly from the source document and \n",
            "  concatenating them to form a summary., In contrast, abstractive summarization generates \n",
            "  new sentences that may not appear in the original text, often requiring \n",
            "  advanced natural language processing (NLP) techniques., The goal of both \n",
            "  methods is to reduce the text size while preserving its meaning, making the\n",
            "  summarization process highly valuable for quickly digesting large volumes of\n",
            "  information, such as articles, reports, or research papers.]\n"
          ]
        }
      ]
    },
    {
      "cell_type": "code",
      "source": [
        "sentence_score = {}\n"
      ],
      "metadata": {
        "id": "vFnnS8yTHdL8"
      },
      "execution_count": 20,
      "outputs": []
    },
    {
      "cell_type": "code",
      "source": [
        "for sent in sent_tokens:\n",
        "  for word in sent:\n",
        "    if word.text.lower() in word_frequency.keys():\n",
        "      if sent not in sentence_score.keys():\n",
        "        sentence_score[sent] = word_frequency[word.text.lower()]\n",
        "        #print(word_frequency[word.text.lower()])\n",
        "      else:\n",
        "        sentence_score[sent] += word_frequency[word.text.lower()]"
      ],
      "metadata": {
        "id": "hSR1K5O2HdIT"
      },
      "execution_count": 21,
      "outputs": []
    },
    {
      "cell_type": "code",
      "source": [
        "print(sentence_score)"
      ],
      "metadata": {
        "colab": {
          "base_uri": "https://localhost:8080/"
        },
        "id": "45B6IMFqHdFq",
        "outputId": "91b155b2-ea83-4d53-89e5-756d2cec45f4"
      },
      "execution_count": 23,
      "outputs": [
        {
          "output_type": "stream",
          "name": "stdout",
          "text": [
            "{Text summarization is the process of automatically creating a shorter version\n",
            " of a given text while retaining the most important information.\n",
            "  : 3.7777777777777786, There are two primary methods for text summarization: \n",
            "  extractive and abstractive.: 2.6666666666666665, Extractive summarization works by selecting \n",
            "  key sentences, phrases, or sections directly from the source document and \n",
            "  concatenating them to form a summary.: 4.111111111111111, In contrast, abstractive summarization generates \n",
            "  new sentences that may not appear in the original text, often requiring \n",
            "  advanced natural language processing (NLP) techniques.: 4.666666666666664, The goal of both \n",
            "  methods is to reduce the text size while preserving its meaning, making the\n",
            "  summarization process highly valuable for quickly digesting large volumes of\n",
            "  information, such as articles, reports, or research papers.: 6.444444444444441}\n"
          ]
        }
      ]
    },
    {
      "cell_type": "markdown",
      "source": [
        "**Extract 30% of sentences with max score**"
      ],
      "metadata": {
        "id": "-m4CMoiGI7fY"
      }
    },
    {
      "cell_type": "code",
      "source": [
        "from heapq import nlargest"
      ],
      "metadata": {
        "id": "7B4CuIvhHdDY"
      },
      "execution_count": 24,
      "outputs": []
    },
    {
      "cell_type": "code",
      "source": [
        "len(sentence_score)"
      ],
      "metadata": {
        "colab": {
          "base_uri": "https://localhost:8080/"
        },
        "id": "9sOJc_RhJF_6",
        "outputId": "485364d5-9486-4adb-ebba-7c5d53d56222"
      },
      "execution_count": 25,
      "outputs": [
        {
          "output_type": "execute_result",
          "data": {
            "text/plain": [
              "5"
            ]
          },
          "metadata": {},
          "execution_count": 25
        }
      ]
    },
    {
      "cell_type": "code",
      "source": [
        "summary = nlargest(int(len(sentence_score)*0.3),sentence_score,key=sentence_score.get)"
      ],
      "metadata": {
        "id": "oa8GKrOLJR2I"
      },
      "execution_count": 26,
      "outputs": []
    },
    {
      "cell_type": "code",
      "source": [
        "summary"
      ],
      "metadata": {
        "colab": {
          "base_uri": "https://localhost:8080/"
        },
        "id": "zV1_NNg1JgQe",
        "outputId": "dcdcf065-ca94-43ff-d6ed-3f77a26f14ca"
      },
      "execution_count": 27,
      "outputs": [
        {
          "output_type": "execute_result",
          "data": {
            "text/plain": [
              "[The goal of both \n",
              "   methods is to reduce the text size while preserving its meaning, making the\n",
              "   summarization process highly valuable for quickly digesting large volumes of\n",
              "   information, such as articles, reports, or research papers.]"
            ]
          },
          "metadata": {},
          "execution_count": 27
        }
      ]
    },
    {
      "cell_type": "code",
      "source": [
        "final_summary = [word.text for word in summary]"
      ],
      "metadata": {
        "id": "CLibKof0Jk-e"
      },
      "execution_count": 28,
      "outputs": []
    },
    {
      "cell_type": "code",
      "source": [
        "print(final_summary)"
      ],
      "metadata": {
        "colab": {
          "base_uri": "https://localhost:8080/"
        },
        "id": "a1ZWkHorJsZK",
        "outputId": "694e9626-55bf-405a-f240-b0b505e6a50f"
      },
      "execution_count": 29,
      "outputs": [
        {
          "output_type": "stream",
          "name": "stdout",
          "text": [
            "['The goal of both \\n  methods is to reduce the text size while preserving its meaning, making the\\n  summarization process highly valuable for quickly digesting large volumes of\\n  information, such as articles, reports, or research papers.']\n"
          ]
        }
      ]
    },
    {
      "cell_type": "code",
      "source": [
        "summary = ' '.join(final_summary)"
      ],
      "metadata": {
        "id": "dv7nH-lXJsVv"
      },
      "execution_count": 30,
      "outputs": []
    },
    {
      "cell_type": "code",
      "source": [
        "print(summary)"
      ],
      "metadata": {
        "colab": {
          "base_uri": "https://localhost:8080/"
        },
        "id": "Rk8JHBbDJsTM",
        "outputId": "8b4b2c86-b9d8-40dc-f268-bef5ef502d57"
      },
      "execution_count": 31,
      "outputs": [
        {
          "output_type": "stream",
          "name": "stdout",
          "text": [
            "The goal of both \n",
            "  methods is to reduce the text size while preserving its meaning, making the\n",
            "  summarization process highly valuable for quickly digesting large volumes of\n",
            "  information, such as articles, reports, or research papers.\n"
          ]
        }
      ]
    },
    {
      "cell_type": "code",
      "source": [
        "len(summary)"
      ],
      "metadata": {
        "colab": {
          "base_uri": "https://localhost:8080/"
        },
        "id": "pTnlEalDJ0WT",
        "outputId": "abb03a8e-5a2d-494c-b146-96a15a0049d7"
      },
      "execution_count": 32,
      "outputs": [
        {
          "output_type": "execute_result",
          "data": {
            "text/plain": [
              "236"
            ]
          },
          "metadata": {},
          "execution_count": 32
        }
      ]
    },
    {
      "cell_type": "code",
      "source": [
        "len(summary)/len(Text)"
      ],
      "metadata": {
        "colab": {
          "base_uri": "https://localhost:8080/"
        },
        "id": "WOT9w3fmJ3YK",
        "outputId": "c1804392-ccf5-4ebe-a17b-bffd49dcb826"
      },
      "execution_count": 33,
      "outputs": [
        {
          "output_type": "execute_result",
          "data": {
            "text/plain": [
              "0.291358024691358"
            ]
          },
          "metadata": {},
          "execution_count": 33
        }
      ]
    }
  ]
}