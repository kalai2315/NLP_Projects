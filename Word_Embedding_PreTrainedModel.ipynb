{
  "nbformat": 4,
  "nbformat_minor": 0,
  "metadata": {
    "colab": {
      "provenance": [],
      "authorship_tag": "ABX9TyMGGCMwYptMkxNWcYxlejkQ",
      "include_colab_link": true
    },
    "kernelspec": {
      "name": "python3",
      "display_name": "Python 3"
    },
    "language_info": {
      "name": "python"
    }
  },
  "cells": [
    {
      "cell_type": "markdown",
      "metadata": {
        "id": "view-in-github",
        "colab_type": "text"
      },
      "source": [
        "<a href=\"https://colab.research.google.com/github/kalai2315/NLP_Projects/blob/main/Word_Embedding_PreTrainedModel.ipynb\" target=\"_parent\"><img src=\"https://colab.research.google.com/assets/colab-badge.svg\" alt=\"Open In Colab\"/></a>"
      ]
    },
    {
      "cell_type": "markdown",
      "source": [
        "**Importing Libraries**"
      ],
      "metadata": {
        "id": "pnqoDnQmUzaH"
      }
    },
    {
      "cell_type": "code",
      "source": [
        "import tensorflow as tf"
      ],
      "metadata": {
        "id": "_a5mFoxyU0JS"
      },
      "execution_count": 1,
      "outputs": []
    },
    {
      "cell_type": "code",
      "execution_count": 2,
      "metadata": {
        "id": "sc1oREQDUegr"
      },
      "outputs": [],
      "source": [
        "import gensim\n",
        "from gensim.models import Word2Vec, KeyedVectors"
      ]
    },
    {
      "cell_type": "markdown",
      "source": [
        "**Data Preprocessing**"
      ],
      "metadata": {
        "id": "yurJQcQRVIA_"
      }
    },
    {
      "cell_type": "code",
      "source": [
        "!pip install -q kaggle"
      ],
      "metadata": {
        "id": "Qke-lcBvVHra"
      },
      "execution_count": 3,
      "outputs": []
    },
    {
      "cell_type": "code",
      "source": [
        "!mkdir -p ~/.kaggle\n",
        "!cp kaggle.json ~/.kaggle/"
      ],
      "metadata": {
        "id": "EQgquaRBVSXj"
      },
      "execution_count": 4,
      "outputs": []
    },
    {
      "cell_type": "code",
      "source": [
        "!chmod 600 /root/.kaggle/kaggle.json"
      ],
      "metadata": {
        "id": "-JT_A6kRVtVn"
      },
      "execution_count": 5,
      "outputs": []
    },
    {
      "cell_type": "code",
      "source": [
        "!kaggle datasets download -d umbertogriffo/googles-trained-word2vec-model-in-python"
      ],
      "metadata": {
        "colab": {
          "base_uri": "https://localhost:8080/"
        },
        "id": "-7kU0dOeVzil",
        "outputId": "69ba07a5-8bd7-4f76-9e77-72f1a13e1fbe"
      },
      "execution_count": 6,
      "outputs": [
        {
          "output_type": "stream",
          "name": "stdout",
          "text": [
            "Dataset URL: https://www.kaggle.com/datasets/umbertogriffo/googles-trained-word2vec-model-in-python\n",
            "License(s): copyright-authors\n",
            "Downloading googles-trained-word2vec-model-in-python.zip to /content\n",
            "100% 3.17G/3.17G [00:49<00:00, 65.6MB/s]\n",
            "100% 3.17G/3.17G [00:49<00:00, 69.3MB/s]\n"
          ]
        }
      ]
    },
    {
      "cell_type": "code",
      "source": [
        "!unzip /content/googles-trained-word2vec-model-in-python.zip"
      ],
      "metadata": {
        "colab": {
          "base_uri": "https://localhost:8080/"
        },
        "id": "4mue9qLRV51x",
        "outputId": "a21d2791-befa-471a-a278-e3446aa42454"
      },
      "execution_count": 7,
      "outputs": [
        {
          "output_type": "stream",
          "name": "stdout",
          "text": [
            "Archive:  /content/googles-trained-word2vec-model-in-python.zip\n",
            "  inflating: GoogleNews-vectors-negative300.bin  \n",
            "  inflating: GoogleNews-vectors-negative300.bin.gz  \n"
          ]
        }
      ]
    },
    {
      "cell_type": "markdown",
      "source": [
        "**Build the Model**"
      ],
      "metadata": {
        "id": "HhW0IneHWUQk"
      }
    },
    {
      "cell_type": "code",
      "source": [
        "model = KeyedVectors.load_word2vec_format('/content/GoogleNews-vectors-negative300.bin', binary=True,limit=100000)"
      ],
      "metadata": {
        "id": "YY16E18dWGut"
      },
      "execution_count": 8,
      "outputs": []
    },
    {
      "cell_type": "markdown",
      "source": [
        "**Predict the output**"
      ],
      "metadata": {
        "id": "2quSU8VwWW7G"
      }
    },
    {
      "cell_type": "code",
      "source": [
        "len(model['man'])"
      ],
      "metadata": {
        "colab": {
          "base_uri": "https://localhost:8080/"
        },
        "id": "IVL46Xf5WNFO",
        "outputId": "0aca79a6-1d51-40a5-d02d-5449dbecdc72"
      },
      "execution_count": 9,
      "outputs": [
        {
          "output_type": "execute_result",
          "data": {
            "text/plain": [
              "300"
            ]
          },
          "metadata": {},
          "execution_count": 9
        }
      ]
    },
    {
      "cell_type": "code",
      "source": [
        "model.most_similar('man')"
      ],
      "metadata": {
        "colab": {
          "base_uri": "https://localhost:8080/"
        },
        "id": "YyyXJ7yRWNBw",
        "outputId": "14dd2b95-1a9e-4c03-a506-036b9ecb42b8"
      },
      "execution_count": 10,
      "outputs": [
        {
          "output_type": "execute_result",
          "data": {
            "text/plain": [
              "[('woman', 0.7664012908935547),\n",
              " ('boy', 0.6824871301651001),\n",
              " ('teenager', 0.6586930155754089),\n",
              " ('teenage_girl', 0.6147903203964233),\n",
              " ('girl', 0.5921714305877686),\n",
              " ('robber', 0.5585119128227234),\n",
              " ('teen_ager', 0.5549196600914001),\n",
              " ('men', 0.5489763021469116),\n",
              " ('guy', 0.5420035123825073),\n",
              " ('person', 0.5342026352882385)]"
            ]
          },
          "metadata": {},
          "execution_count": 10
        }
      ]
    },
    {
      "cell_type": "code",
      "source": [
        "vector = model['king'] - model['man'] + model['woman']\n",
        "model.most_similar([vector])"
      ],
      "metadata": {
        "colab": {
          "base_uri": "https://localhost:8080/"
        },
        "id": "BHu8_OueWM-p",
        "outputId": "d1424ef9-60a3-48d0-d1ce-eba0a9ad8b7a"
      },
      "execution_count": 11,
      "outputs": [
        {
          "output_type": "execute_result",
          "data": {
            "text/plain": [
              "[('king', 0.8449392318725586),\n",
              " ('queen', 0.7300517559051514),\n",
              " ('monarch', 0.645466148853302),\n",
              " ('princess', 0.6156251430511475),\n",
              " ('crown_prince', 0.5818676352500916),\n",
              " ('prince', 0.5777117609977722),\n",
              " ('kings', 0.5613663792610168),\n",
              " ('sultan', 0.5376775860786438),\n",
              " ('queens', 0.5289887189865112),\n",
              " ('ruler', 0.5247419476509094)]"
            ]
          },
          "metadata": {},
          "execution_count": 11
        }
      ]
    },
    {
      "cell_type": "code",
      "source": [
        "vector = model['Messi'] - model['Football'] + model['Cricket']\n",
        "model.most_similar([vector])"
      ],
      "metadata": {
        "colab": {
          "base_uri": "https://localhost:8080/"
        },
        "id": "i12TKX99WM7f",
        "outputId": "d582fb13-0637-4038-e07e-e44e50ca8205"
      },
      "execution_count": 12,
      "outputs": [
        {
          "output_type": "execute_result",
          "data": {
            "text/plain": [
              "[('Messi', 0.7382575273513794),\n",
              " ('Sehwag', 0.6777455806732178),\n",
              " ('Tendulkar', 0.6748222708702087),\n",
              " ('Xavi', 0.6610832810401917),\n",
              " ('Dravid', 0.6569646596908569),\n",
              " ('Dhoni', 0.6550688743591309),\n",
              " ('Lionel_Messi', 0.6407608389854431),\n",
              " ('Forlan', 0.640610933303833),\n",
              " ('Yuvraj', 0.6390379667282104),\n",
              " ('Ponting', 0.6390198469161987)]"
            ]
          },
          "metadata": {},
          "execution_count": 12
        }
      ]
    },
    {
      "cell_type": "code",
      "source": [
        "vector = model['Germany'] - model['Berlin'] + model['Paris']\n",
        "model.most_similar([vector])"
      ],
      "metadata": {
        "colab": {
          "base_uri": "https://localhost:8080/"
        },
        "id": "56S3WssoWM4b",
        "outputId": "32234be1-4cee-4cbb-b2c2-abcd58e8f568"
      },
      "execution_count": 13,
      "outputs": [
        {
          "output_type": "execute_result",
          "data": {
            "text/plain": [
              "[('France', 0.7724406123161316),\n",
              " ('Paris', 0.6798243522644043),\n",
              " ('Belgium', 0.598486065864563),\n",
              " ('Germany', 0.5652832388877869),\n",
              " ('Spain', 0.550815761089325),\n",
              " ('Italy', 0.5462924838066101),\n",
              " ('Marseille', 0.5372346639633179),\n",
              " ('Switzerland', 0.5364957451820374),\n",
              " ('French', 0.5346113443374634),\n",
              " ('Morocco', 0.5051252841949463)]"
            ]
          },
          "metadata": {},
          "execution_count": 13
        }
      ]
    },
    {
      "cell_type": "code",
      "source": [],
      "metadata": {
        "id": "3erQVzJVWM1N"
      },
      "execution_count": null,
      "outputs": []
    }
  ]
}